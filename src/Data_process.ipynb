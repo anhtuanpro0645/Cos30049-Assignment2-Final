{
 "cells": [
  {
   "cell_type": "code",
   "execution_count": 2,
   "id": "4b9ff508",
   "metadata": {},
   "outputs": [
    {
     "name": "stderr",
     "output_type": "stream",
     "text": [
      "[nltk_data] Downloading package stopwords to\n",
      "[nltk_data]     C:\\Users\\Admin\\AppData\\Roaming\\nltk_data...\n",
      "[nltk_data]   Package stopwords is already up-to-date!\n",
      "[nltk_data] Downloading package punkt to\n",
      "[nltk_data]     C:\\Users\\Admin\\AppData\\Roaming\\nltk_data...\n",
      "[nltk_data]   Package punkt is already up-to-date!\n"
     ]
    }
   ],
   "source": [
    "# Core packages\n",
    "import numpy as np                           \n",
    "import pandas as pd                          \n",
    "import re \n",
    "import matplotlib.pyplot as plt              \n",
    "import seaborn as sns                        \n",
    "# Data preprocessing and selection\n",
    "from collections import Counter\n",
    "import nltk\n",
    "nltk.download('stopwords')\n",
    "nltk.download('punkt')\n",
    "import string\n",
    "from nltk.corpus import stopwords, wordnet\n",
    "from nltk.stem import WordNetLemmatizer\n",
    "from nltk import pos_tag\n",
    "from nltk.tokenize import sent_tokenize, word_tokenize\n",
    "\n",
    "# Misc\n",
    "import warnings                                                  \n",
    "warnings.filterwarnings('ignore')                                 \n",
    "pd.set_option('display.max_columns', 100)                       "
   ]
  },
  {
   "cell_type": "markdown",
   "id": "7555a387",
   "metadata": {},
   "source": [
    "# 1. Data Cleaning and Preprocessing\n"
   ]
  },
  {
   "cell_type": "markdown",
   "id": "0534386a",
   "metadata": {},
   "source": [
    "## 1.1 Load Raw Datasets\n"
   ]
  },
  {
   "cell_type": "code",
   "execution_count": 3,
   "id": "f2965b64",
   "metadata": {},
   "outputs": [],
   "source": [
    "# Read raw datasets\n",
    "df1 = pd.read_csv('../data/raw/emails.csv')\n",
    "df2 = pd.read_csv('../data/raw/spam.csv')\n",
    "df3 = pd.read_csv('../data/raw/spam_ham_dataset.csv')\n",
    "df4 = pd.read_csv('../data/raw/completeSpamAssassin.csv')"
   ]
  },
  {
   "cell_type": "code",
   "execution_count": 4,
   "id": "41385186",
   "metadata": {},
   "outputs": [
    {
     "data": {
      "text/html": [
       "<div>\n",
       "<style scoped>\n",
       "    .dataframe tbody tr th:only-of-type {\n",
       "        vertical-align: middle;\n",
       "    }\n",
       "\n",
       "    .dataframe tbody tr th {\n",
       "        vertical-align: top;\n",
       "    }\n",
       "\n",
       "    .dataframe thead th {\n",
       "        text-align: right;\n",
       "    }\n",
       "</style>\n",
       "<table border=\"1\" class=\"dataframe\">\n",
       "  <thead>\n",
       "    <tr style=\"text-align: right;\">\n",
       "      <th></th>\n",
       "      <th>text</th>\n",
       "      <th>spam</th>\n",
       "    </tr>\n",
       "  </thead>\n",
       "  <tbody>\n",
       "    <tr>\n",
       "      <th>0</th>\n",
       "      <td>Subject: naturally irresistible your corporate...</td>\n",
       "      <td>1</td>\n",
       "    </tr>\n",
       "    <tr>\n",
       "      <th>1</th>\n",
       "      <td>Subject: the stock trading gunslinger  fanny i...</td>\n",
       "      <td>1</td>\n",
       "    </tr>\n",
       "    <tr>\n",
       "      <th>2</th>\n",
       "      <td>Subject: unbelievable new homes made easy  im ...</td>\n",
       "      <td>1</td>\n",
       "    </tr>\n",
       "    <tr>\n",
       "      <th>3</th>\n",
       "      <td>Subject: 4 color printing special  request add...</td>\n",
       "      <td>1</td>\n",
       "    </tr>\n",
       "    <tr>\n",
       "      <th>4</th>\n",
       "      <td>Subject: do not have money , get software cds ...</td>\n",
       "      <td>1</td>\n",
       "    </tr>\n",
       "  </tbody>\n",
       "</table>\n",
       "</div>"
      ],
      "text/plain": [
       "                                                text  spam\n",
       "0  Subject: naturally irresistible your corporate...     1\n",
       "1  Subject: the stock trading gunslinger  fanny i...     1\n",
       "2  Subject: unbelievable new homes made easy  im ...     1\n",
       "3  Subject: 4 color printing special  request add...     1\n",
       "4  Subject: do not have money , get software cds ...     1"
      ]
     },
     "execution_count": 4,
     "metadata": {},
     "output_type": "execute_result"
    }
   ],
   "source": [
    "# Display the first few rows of the dataset\n",
    "df1.head()"
   ]
  },
  {
   "cell_type": "code",
   "execution_count": 5,
   "id": "e621cb8b",
   "metadata": {},
   "outputs": [
    {
     "data": {
      "text/html": [
       "<div>\n",
       "<style scoped>\n",
       "    .dataframe tbody tr th:only-of-type {\n",
       "        vertical-align: middle;\n",
       "    }\n",
       "\n",
       "    .dataframe tbody tr th {\n",
       "        vertical-align: top;\n",
       "    }\n",
       "\n",
       "    .dataframe thead th {\n",
       "        text-align: right;\n",
       "    }\n",
       "</style>\n",
       "<table border=\"1\" class=\"dataframe\">\n",
       "  <thead>\n",
       "    <tr style=\"text-align: right;\">\n",
       "      <th></th>\n",
       "      <th>Category</th>\n",
       "      <th>Message</th>\n",
       "    </tr>\n",
       "  </thead>\n",
       "  <tbody>\n",
       "    <tr>\n",
       "      <th>0</th>\n",
       "      <td>ham</td>\n",
       "      <td>Go until jurong point, crazy.. Available only ...</td>\n",
       "    </tr>\n",
       "    <tr>\n",
       "      <th>1</th>\n",
       "      <td>ham</td>\n",
       "      <td>Ok lar... Joking wif u oni...</td>\n",
       "    </tr>\n",
       "    <tr>\n",
       "      <th>2</th>\n",
       "      <td>spam</td>\n",
       "      <td>Free entry in 2 a wkly comp to win FA Cup fina...</td>\n",
       "    </tr>\n",
       "    <tr>\n",
       "      <th>3</th>\n",
       "      <td>ham</td>\n",
       "      <td>U dun say so early hor... U c already then say...</td>\n",
       "    </tr>\n",
       "    <tr>\n",
       "      <th>4</th>\n",
       "      <td>ham</td>\n",
       "      <td>Nah I don't think he goes to usf, he lives aro...</td>\n",
       "    </tr>\n",
       "  </tbody>\n",
       "</table>\n",
       "</div>"
      ],
      "text/plain": [
       "  Category                                            Message\n",
       "0      ham  Go until jurong point, crazy.. Available only ...\n",
       "1      ham                      Ok lar... Joking wif u oni...\n",
       "2     spam  Free entry in 2 a wkly comp to win FA Cup fina...\n",
       "3      ham  U dun say so early hor... U c already then say...\n",
       "4      ham  Nah I don't think he goes to usf, he lives aro..."
      ]
     },
     "execution_count": 5,
     "metadata": {},
     "output_type": "execute_result"
    }
   ],
   "source": [
    "df2.head()"
   ]
  },
  {
   "cell_type": "code",
   "execution_count": 6,
   "id": "6d6bf018",
   "metadata": {},
   "outputs": [
    {
     "data": {
      "text/html": [
       "<div>\n",
       "<style scoped>\n",
       "    .dataframe tbody tr th:only-of-type {\n",
       "        vertical-align: middle;\n",
       "    }\n",
       "\n",
       "    .dataframe tbody tr th {\n",
       "        vertical-align: top;\n",
       "    }\n",
       "\n",
       "    .dataframe thead th {\n",
       "        text-align: right;\n",
       "    }\n",
       "</style>\n",
       "<table border=\"1\" class=\"dataframe\">\n",
       "  <thead>\n",
       "    <tr style=\"text-align: right;\">\n",
       "      <th></th>\n",
       "      <th>Unnamed: 0</th>\n",
       "      <th>label</th>\n",
       "      <th>text</th>\n",
       "      <th>label_num</th>\n",
       "    </tr>\n",
       "  </thead>\n",
       "  <tbody>\n",
       "    <tr>\n",
       "      <th>0</th>\n",
       "      <td>605</td>\n",
       "      <td>ham</td>\n",
       "      <td>Subject: enron methanol ; meter # : 988291\\r\\n...</td>\n",
       "      <td>0</td>\n",
       "    </tr>\n",
       "    <tr>\n",
       "      <th>1</th>\n",
       "      <td>2349</td>\n",
       "      <td>ham</td>\n",
       "      <td>Subject: hpl nom for january 9 , 2001\\r\\n( see...</td>\n",
       "      <td>0</td>\n",
       "    </tr>\n",
       "    <tr>\n",
       "      <th>2</th>\n",
       "      <td>3624</td>\n",
       "      <td>ham</td>\n",
       "      <td>Subject: neon retreat\\r\\nho ho ho , we ' re ar...</td>\n",
       "      <td>0</td>\n",
       "    </tr>\n",
       "    <tr>\n",
       "      <th>3</th>\n",
       "      <td>4685</td>\n",
       "      <td>spam</td>\n",
       "      <td>Subject: photoshop , windows , office . cheap ...</td>\n",
       "      <td>1</td>\n",
       "    </tr>\n",
       "    <tr>\n",
       "      <th>4</th>\n",
       "      <td>2030</td>\n",
       "      <td>ham</td>\n",
       "      <td>Subject: re : indian springs\\r\\nthis deal is t...</td>\n",
       "      <td>0</td>\n",
       "    </tr>\n",
       "  </tbody>\n",
       "</table>\n",
       "</div>"
      ],
      "text/plain": [
       "   Unnamed: 0 label                                               text  \\\n",
       "0         605   ham  Subject: enron methanol ; meter # : 988291\\r\\n...   \n",
       "1        2349   ham  Subject: hpl nom for january 9 , 2001\\r\\n( see...   \n",
       "2        3624   ham  Subject: neon retreat\\r\\nho ho ho , we ' re ar...   \n",
       "3        4685  spam  Subject: photoshop , windows , office . cheap ...   \n",
       "4        2030   ham  Subject: re : indian springs\\r\\nthis deal is t...   \n",
       "\n",
       "   label_num  \n",
       "0          0  \n",
       "1          0  \n",
       "2          0  \n",
       "3          1  \n",
       "4          0  "
      ]
     },
     "execution_count": 6,
     "metadata": {},
     "output_type": "execute_result"
    }
   ],
   "source": [
    "df3.head()"
   ]
  },
  {
   "cell_type": "code",
   "execution_count": 7,
   "id": "d98f81ab",
   "metadata": {},
   "outputs": [
    {
     "data": {
      "text/html": [
       "<div>\n",
       "<style scoped>\n",
       "    .dataframe tbody tr th:only-of-type {\n",
       "        vertical-align: middle;\n",
       "    }\n",
       "\n",
       "    .dataframe tbody tr th {\n",
       "        vertical-align: top;\n",
       "    }\n",
       "\n",
       "    .dataframe thead th {\n",
       "        text-align: right;\n",
       "    }\n",
       "</style>\n",
       "<table border=\"1\" class=\"dataframe\">\n",
       "  <thead>\n",
       "    <tr style=\"text-align: right;\">\n",
       "      <th></th>\n",
       "      <th>Unnamed: 0</th>\n",
       "      <th>Body</th>\n",
       "      <th>Label</th>\n",
       "    </tr>\n",
       "  </thead>\n",
       "  <tbody>\n",
       "    <tr>\n",
       "      <th>0</th>\n",
       "      <td>0</td>\n",
       "      <td>\\nSave up to 70% on Life Insurance.\\nWhy Spend...</td>\n",
       "      <td>1</td>\n",
       "    </tr>\n",
       "    <tr>\n",
       "      <th>1</th>\n",
       "      <td>1</td>\n",
       "      <td>1) Fight The Risk of Cancer!\\nhttp://www.adcli...</td>\n",
       "      <td>1</td>\n",
       "    </tr>\n",
       "    <tr>\n",
       "      <th>2</th>\n",
       "      <td>2</td>\n",
       "      <td>1) Fight The Risk of Cancer!\\nhttp://www.adcli...</td>\n",
       "      <td>1</td>\n",
       "    </tr>\n",
       "    <tr>\n",
       "      <th>3</th>\n",
       "      <td>3</td>\n",
       "      <td>##############################################...</td>\n",
       "      <td>1</td>\n",
       "    </tr>\n",
       "    <tr>\n",
       "      <th>4</th>\n",
       "      <td>4</td>\n",
       "      <td>I thought you might like these:\\n1) Slim Down ...</td>\n",
       "      <td>1</td>\n",
       "    </tr>\n",
       "  </tbody>\n",
       "</table>\n",
       "</div>"
      ],
      "text/plain": [
       "   Unnamed: 0                                               Body  Label\n",
       "0           0  \\nSave up to 70% on Life Insurance.\\nWhy Spend...      1\n",
       "1           1  1) Fight The Risk of Cancer!\\nhttp://www.adcli...      1\n",
       "2           2  1) Fight The Risk of Cancer!\\nhttp://www.adcli...      1\n",
       "3           3  ##############################################...      1\n",
       "4           4  I thought you might like these:\\n1) Slim Down ...      1"
      ]
     },
     "execution_count": 7,
     "metadata": {},
     "output_type": "execute_result"
    }
   ],
   "source": [
    "df4.head()"
   ]
  },
  {
   "cell_type": "markdown",
   "id": "ebeb76ee",
   "metadata": {},
   "source": [
    "## 1.2 Data Merging\n"
   ]
  },
  {
   "cell_type": "code",
   "execution_count": null,
   "id": "07574d23",
   "metadata": {},
   "outputs": [
    {
     "name": "stdout",
     "output_type": "stream",
     "text": [
      "df1: 5728\n",
      "df2: 5572\n",
      "df3: 5171\n",
      "df4: 6046\n",
      "Merge all nomalized datasets into a single dataset 22517\n",
      "Done. Rows: 22517\n"
     ]
    }
   ],
   "source": [
    "# Normalize datasets\n",
    "# df1\n",
    "df1 = df1[['text', 'spam']]\n",
    "print(\"df1:\", len(df1))\n",
    "\n",
    "# df2\n",
    "# Remove BOM and whitespace from column names\n",
    "df2.columns = df2.columns.str.replace('\\ufeff', '').str.strip()\n",
    "df2 = df2[['Category', 'Message']].copy()\n",
    "df2.rename(columns={'Message': 'text'}, inplace=True)\n",
    "df2['spam'] = df2['Category'].map({'ham': 0, 'spam': 1})\n",
    "df2 = df2[['text', 'spam']]\n",
    "print(\"df2:\", len(df2))\n",
    "\n",
    "# df3\n",
    "df3 = df3[['text', 'label_num']].copy()\n",
    "df3.rename(columns={'label_num': 'spam'}, inplace=True) # 0: ham, 1: spam\n",
    "print(\"df3:\", len(df3))\n",
    "\n",
    "# df4\n",
    "df4 = df4[['Body', 'Label']].copy()\n",
    "df4.rename(columns={'Label': 'spam', 'Body': 'text'}, inplace=True)\n",
    "df4 = df4[['text', 'spam']]\n",
    "print(\"df4:\", len(df4))\n",
    "\n",
    "\n",
    "# Merge all normalized datasets into a single dataset\n",
    "df = pd.concat([df1, df2, df3, df4], ignore_index=True)\n",
    "print(\"Merge all nomalized datasets into a single dataset\", len(pd.concat([df1, df2, df3, df4])))\n",
    "\n",
    "# Save the merged dataset\n",
    "df.to_csv('../data/processed/Merged_datasets.csv', index=False)\n",
    "print(f\"Done. Rows: {len(df)}\")"
   ]
  },
  {
   "cell_type": "markdown",
   "id": "7af936b5",
   "metadata": {},
   "source": [
    "## 1.3 Data Cleaning\n"
   ]
  },
  {
   "cell_type": "code",
   "execution_count": 9,
   "id": "e663bb3b",
   "metadata": {},
   "outputs": [
    {
     "data": {
      "text/html": [
       "<div>\n",
       "<style scoped>\n",
       "    .dataframe tbody tr th:only-of-type {\n",
       "        vertical-align: middle;\n",
       "    }\n",
       "\n",
       "    .dataframe tbody tr th {\n",
       "        vertical-align: top;\n",
       "    }\n",
       "\n",
       "    .dataframe thead th {\n",
       "        text-align: right;\n",
       "    }\n",
       "</style>\n",
       "<table border=\"1\" class=\"dataframe\">\n",
       "  <thead>\n",
       "    <tr style=\"text-align: right;\">\n",
       "      <th></th>\n",
       "      <th>text</th>\n",
       "      <th>spam</th>\n",
       "    </tr>\n",
       "  </thead>\n",
       "  <tbody>\n",
       "    <tr>\n",
       "      <th>0</th>\n",
       "      <td>Subject: naturally irresistible your corporate...</td>\n",
       "      <td>1</td>\n",
       "    </tr>\n",
       "    <tr>\n",
       "      <th>1</th>\n",
       "      <td>Subject: the stock trading gunslinger  fanny i...</td>\n",
       "      <td>1</td>\n",
       "    </tr>\n",
       "    <tr>\n",
       "      <th>2</th>\n",
       "      <td>Subject: unbelievable new homes made easy  im ...</td>\n",
       "      <td>1</td>\n",
       "    </tr>\n",
       "    <tr>\n",
       "      <th>3</th>\n",
       "      <td>Subject: 4 color printing special  request add...</td>\n",
       "      <td>1</td>\n",
       "    </tr>\n",
       "    <tr>\n",
       "      <th>4</th>\n",
       "      <td>Subject: do not have money , get software cds ...</td>\n",
       "      <td>1</td>\n",
       "    </tr>\n",
       "  </tbody>\n",
       "</table>\n",
       "</div>"
      ],
      "text/plain": [
       "                                                text  spam\n",
       "0  Subject: naturally irresistible your corporate...     1\n",
       "1  Subject: the stock trading gunslinger  fanny i...     1\n",
       "2  Subject: unbelievable new homes made easy  im ...     1\n",
       "3  Subject: 4 color printing special  request add...     1\n",
       "4  Subject: do not have money , get software cds ...     1"
      ]
     },
     "execution_count": 9,
     "metadata": {},
     "output_type": "execute_result"
    }
   ],
   "source": [
    "#Load the data and preview it\n",
    "df = pd.read_csv(\"../data/processed/Merged_datasets.csv\")\n",
    "df.head()"
   ]
  },
  {
   "cell_type": "code",
   "execution_count": 10,
   "id": "acc10c5d",
   "metadata": {},
   "outputs": [
    {
     "name": "stdout",
     "output_type": "stream",
     "text": [
      "Shape of the dataset: (22517, 2)\n"
     ]
    },
    {
     "data": {
      "text/html": [
       "<div>\n",
       "<style scoped>\n",
       "    .dataframe tbody tr th:only-of-type {\n",
       "        vertical-align: middle;\n",
       "    }\n",
       "\n",
       "    .dataframe tbody tr th {\n",
       "        vertical-align: top;\n",
       "    }\n",
       "\n",
       "    .dataframe thead th {\n",
       "        text-align: right;\n",
       "    }\n",
       "</style>\n",
       "<table border=\"1\" class=\"dataframe\">\n",
       "  <thead>\n",
       "    <tr style=\"text-align: right;\">\n",
       "      <th></th>\n",
       "      <th>text</th>\n",
       "      <th>spam</th>\n",
       "    </tr>\n",
       "  </thead>\n",
       "  <tbody>\n",
       "    <tr>\n",
       "      <th>0</th>\n",
       "      <td>Subject: naturally irresistible your corporate...</td>\n",
       "      <td>1</td>\n",
       "    </tr>\n",
       "    <tr>\n",
       "      <th>1</th>\n",
       "      <td>Subject: the stock trading gunslinger  fanny i...</td>\n",
       "      <td>1</td>\n",
       "    </tr>\n",
       "    <tr>\n",
       "      <th>2</th>\n",
       "      <td>Subject: unbelievable new homes made easy  im ...</td>\n",
       "      <td>1</td>\n",
       "    </tr>\n",
       "    <tr>\n",
       "      <th>3</th>\n",
       "      <td>Subject: 4 color printing special  request add...</td>\n",
       "      <td>1</td>\n",
       "    </tr>\n",
       "    <tr>\n",
       "      <th>4</th>\n",
       "      <td>Subject: do not have money , get software cds ...</td>\n",
       "      <td>1</td>\n",
       "    </tr>\n",
       "  </tbody>\n",
       "</table>\n",
       "</div>"
      ],
      "text/plain": [
       "                                                text  spam\n",
       "0  Subject: naturally irresistible your corporate...     1\n",
       "1  Subject: the stock trading gunslinger  fanny i...     1\n",
       "2  Subject: unbelievable new homes made easy  im ...     1\n",
       "3  Subject: 4 color printing special  request add...     1\n",
       "4  Subject: do not have money , get software cds ...     1"
      ]
     },
     "execution_count": 10,
     "metadata": {},
     "output_type": "execute_result"
    }
   ],
   "source": [
    "#rows and columns \n",
    "print(f\"Shape of the dataset: {df.shape}\") #rows, columns\n",
    "\n",
    "df.head()"
   ]
  },
  {
   "cell_type": "code",
   "execution_count": 11,
   "id": "1e9174fd",
   "metadata": {},
   "outputs": [
    {
     "name": "stdout",
     "output_type": "stream",
     "text": [
      "<class 'pandas.core.frame.DataFrame'>\n",
      "RangeIndex: 22517 entries, 0 to 22516\n",
      "Data columns (total 2 columns):\n",
      " #   Column  Non-Null Count  Dtype \n",
      "---  ------  --------------  ----- \n",
      " 0   text    22516 non-null  object\n",
      " 1   spam    22517 non-null  int64 \n",
      "dtypes: int64(1), object(1)\n",
      "memory usage: 352.0+ KB\n"
     ]
    }
   ],
   "source": [
    "#Data types and non-null counts for each column\n",
    "df.info()"
   ]
  },
  {
   "cell_type": "code",
   "execution_count": null,
   "id": "b6c7a306",
   "metadata": {},
   "outputs": [
    {
     "data": {
      "text/html": [
       "<div>\n",
       "<style scoped>\n",
       "    .dataframe tbody tr th:only-of-type {\n",
       "        vertical-align: middle;\n",
       "    }\n",
       "\n",
       "    .dataframe tbody tr th {\n",
       "        vertical-align: top;\n",
       "    }\n",
       "\n",
       "    .dataframe thead th {\n",
       "        text-align: right;\n",
       "    }\n",
       "</style>\n",
       "<table border=\"1\" class=\"dataframe\">\n",
       "  <thead>\n",
       "    <tr style=\"text-align: right;\">\n",
       "      <th></th>\n",
       "      <th>spam</th>\n",
       "    </tr>\n",
       "  </thead>\n",
       "  <tbody>\n",
       "    <tr>\n",
       "      <th>count</th>\n",
       "      <td>22517.000000</td>\n",
       "    </tr>\n",
       "    <tr>\n",
       "      <th>mean</th>\n",
       "      <td>0.244704</td>\n",
       "    </tr>\n",
       "    <tr>\n",
       "      <th>std</th>\n",
       "      <td>0.429921</td>\n",
       "    </tr>\n",
       "    <tr>\n",
       "      <th>min</th>\n",
       "      <td>0.000000</td>\n",
       "    </tr>\n",
       "    <tr>\n",
       "      <th>25%</th>\n",
       "      <td>0.000000</td>\n",
       "    </tr>\n",
       "    <tr>\n",
       "      <th>50%</th>\n",
       "      <td>0.000000</td>\n",
       "    </tr>\n",
       "    <tr>\n",
       "      <th>75%</th>\n",
       "      <td>0.000000</td>\n",
       "    </tr>\n",
       "    <tr>\n",
       "      <th>max</th>\n",
       "      <td>1.000000</td>\n",
       "    </tr>\n",
       "  </tbody>\n",
       "</table>\n",
       "</div>"
      ],
      "text/plain": [
       "               spam\n",
       "count  22517.000000\n",
       "mean       0.244704\n",
       "std        0.429921\n",
       "min        0.000000\n",
       "25%        0.000000\n",
       "50%        0.000000\n",
       "75%        0.000000\n",
       "max        1.000000"
      ]
     },
     "execution_count": 12,
     "metadata": {},
     "output_type": "execute_result"
    }
   ],
   "source": [
    "#Statistical summary of numerical columns\n",
    "df.describe()"
   ]
  },
  {
   "cell_type": "code",
   "execution_count": null,
   "id": "33d64f6a",
   "metadata": {},
   "outputs": [
    {
     "name": "stdout",
     "output_type": "stream",
     "text": [
      "<class 'pandas.core.frame.DataFrame'>\n",
      "Index: 21137 entries, 0 to 22514\n",
      "Data columns (total 2 columns):\n",
      " #   Column  Non-Null Count  Dtype \n",
      "---  ------  --------------  ----- \n",
      " 0   text    21137 non-null  object\n",
      " 1   spam    21137 non-null  int64 \n",
      "dtypes: int64(1), object(1)\n",
      "memory usage: 495.4+ KB\n",
      "None\n",
      "                                                text  spam\n",
      "0  Subject: naturally irresistible your corporate...     1\n",
      "1  Subject: the stock trading gunslinger  fanny i...     1\n",
      "2  Subject: unbelievable new homes made easy  im ...     1\n",
      "3  Subject: 4 color printing special  request add...     1\n",
      "4  Subject: do not have money , get software cds ...     1\n",
      "5  Subject: great nnews  hello , welcome to medzo...     1\n",
      "6  Subject: here ' s a hot play in motion  homela...     1\n",
      "7  Subject: save your money buy getting this thin...     1\n",
      "8  Subject: undeliverable : home based business f...     1\n",
      "9  Subject: save your money buy getting this thin...     1\n"
     ]
    }
   ],
   "source": [
    "# Check for missing values\n",
    "df.drop_duplicates(inplace=True) # Remove duplicates\n",
    "\n",
    "df.dropna(subset=['text', 'spam'], inplace=True) # Remove rows with missing values in 'text' or 'spam' columns\n",
    "df = df[df['text'].str.strip() != \"\"] # Remove empty text entries\n",
    "\n",
    "df['spam'] = df['spam'].astype(int) # Ensure 'spam' column is of integer type\n",
    "\n",
    "print(df.info()) # Check data info after cleaning\n",
    "print(df.head(10)) # Preview the cleaned data"
   ]
  },
  {
   "cell_type": "code",
   "execution_count": null,
   "id": "73291678",
   "metadata": {},
   "outputs": [
    {
     "name": "stdout",
     "output_type": "stream",
     "text": [
      "spam\n",
      "0    16289\n",
      "1     4848\n",
      "Name: count, dtype: int64\n",
      "0\n",
      "text    0\n",
      "spam    0\n",
      "dtype: int64\n"
     ]
    }
   ],
   "source": [
    "print(df['spam'].value_counts())     # Count of each class in 'spam' column\n",
    "print(df.duplicated().sum())         # Count of duplicate rows\n",
    "print(df.isnull().sum())             # Count of missing values in each column"
   ]
  },
  {
   "cell_type": "code",
   "execution_count": null,
   "id": "bff65bfa",
   "metadata": {},
   "outputs": [
    {
     "name": "stdout",
     "output_type": "stream",
     "text": [
      "Already saved the cleaned dataset\n"
     ]
    }
   ],
   "source": [
    "df.to_csv(\"../data/processed/Cleaned_dataset.csv\", index=False) # Save the cleaned dataset\n",
    "print(\"Already saved the cleaned dataset\")"
   ]
  },
  {
   "cell_type": "markdown",
   "id": "d13f2080",
   "metadata": {},
   "source": [
    "## 1.4 EDA Exploration"
   ]
  },
  {
   "cell_type": "code",
   "execution_count": null,
   "id": "d5878278",
   "metadata": {},
   "outputs": [
    {
     "name": "stdout",
     "output_type": "stream",
     "text": [
      "spam\n",
      "0    16289\n",
      "1     4848\n",
      "Name: count, dtype: int64\n",
      "spam\n",
      "0    77.063916\n",
      "1    22.936084\n",
      "Name: count, dtype: float64\n"
     ]
    },
    {
     "data": {
      "image/png": "[encoded data removed]",
      "text/plain": [
       "<Figure size 500x500 with 1 Axes>"
      ]
     },
     "metadata": {},
     "output_type": "display_data"
    }
   ],
   "source": [
    "# Visualize the distribution of labels\n",
    "df = pd.read_csv(\"../data/processed/Cleaned_dataset.csv\")\n",
    "\n",
    "# Count the number of samples in each class\n",
    "label_counts = df['spam'].value_counts()\n",
    "print(label_counts)\n",
    "print(label_counts / len(df) * 100)\n",
    "# Pie chart for label distribution\n",
    "plt.figure(figsize=(5,5))\n",
    "label_counts.plot(kind='pie', labels=['Ham (0)', 'Spam (1)'], autopct='%1.1f%%', colors=['#4CAF50', '#F44336'])\n",
    "plt.title(\"📊 Distribution of Labels (Ham vs Spam)\")\n",
    "plt.ylabel(\"\")\n",
    "plt.show()"
   ]
  },
  {
   "cell_type": "code",
   "execution_count": null,
   "id": "52098dd7",
   "metadata": {},
   "outputs": [
    {
     "name": "stdout",
     "output_type": "stream",
     "text": [
      "                                                text  spam  \\\n",
      "0  Subject: naturally irresistible your corporate...     1   \n",
      "1  Subject: the stock trading gunslinger  fanny i...     1   \n",
      "\n",
      "                                      transform_text  Length  num_words  \\\n",
      "0  subject naturally irresistible corporate ident...    1484        325   \n",
      "1  subject stock trading gunslinger fanny merrill...     598         90   \n",
      "\n",
      "   num_sentence  \n",
      "0            11  \n",
      "1             1  \n",
      "Average Length of Spam Emails: 1445.434199669967\n",
      "Average Length of Ham Emails: 1100.2894591442077\n"
     ]
    },
    {
     "data": {
      "image/png": "[encoded data removed]",
      "text/plain": [
       "<Figure size 640x480 with 1 Axes>"
      ]
     },
     "metadata": {},
     "output_type": "display_data"
    }
   ],
   "source": [
    "# Feature Engineering: Text Length, Word Count, Sentence Count\n",
    "df['text'] = df['text'].fillna(\"\").astype(str)\n",
    "\n",
    "df['Length'] = df['text'].apply(len)                      \n",
    "df['num_words'] = df['text'].apply(lambda x: len(word_tokenize(x)))  \n",
    "df['num_sentence'] = df['text'].apply(lambda x: len(sent_tokenize(x))) \n",
    "\n",
    "print(df.head(2))\n",
    "\n",
    "avg_length_spam = df[df['spam'] == 1]['Length'].mean()\n",
    "avg_length_ham = df[df['spam'] == 0]['Length'].mean()\n",
    "\n",
    "print(\"Average Length of Spam Emails:\", avg_length_spam)\n",
    "print(\"Average Length of Ham Emails:\", avg_length_ham) \n",
    "\n",
    "# Plotting\n",
    "plt.bar(['Spam', 'Ham'], [avg_length_spam, avg_length_ham], color=['red', 'green'])\n",
    "plt.title('Average Length of Emails for Spam and Ham')\n",
    "plt.xlabel('Email Type')\n",
    "plt.ylabel('Average Length (characters)')\n",
    "plt.show()"
   ]
  },
  {
   "cell_type": "code",
   "execution_count": null,
   "id": "c065a298",
   "metadata": {},
   "outputs": [
    {
     "name": "stdout",
     "output_type": "stream",
     "text": [
      "Average Words of Spam Emails: 273.8591171617162\n",
      "Average Words of Ham Emails: 228.84474185032843\n"
     ]
    },
    {
     "data": {
      "image/png": "[encoded data removed]",
      "text/plain": [
       "<Figure size 640x480 with 1 Axes>"
      ]
     },
     "metadata": {},
     "output_type": "display_data"
    }
   ],
   "source": [
    "# Word Count\n",
    "avg_word_spam = df[df['spam'] == 1]['num_words'].mean()\n",
    "avg_word_ham = df[df['spam'] == 0]['num_words'].mean()\n",
    "print(\"Average Words of Spam Emails:\", avg_word_spam)\n",
    "print(\"Average Words of Ham Emails:\", avg_word_ham)\n",
    "# Plotting\n",
    "plt.bar(['Spam', 'Ham'], [avg_word_spam, avg_word_ham], color=['Blue', 'orange'])\n",
    "plt.title('Average Words of Emails for Spam and Ham')\n",
    "plt.xlabel('Email Type')\n",
    "plt.ylabel('Average Words')\n",
    "plt.show()"
   ]
  },
  {
   "cell_type": "code",
   "execution_count": null,
   "id": "ef2d9e52",
   "metadata": {},
   "outputs": [
    {
     "name": "stdout",
     "output_type": "stream",
     "text": [
      "Average Sentence of Spam Emails: 15.463696369636963\n",
      "Average Sentence of Ham Emails: 11.055006446067898\n"
     ]
    },
    {
     "data": {
      "image/png": "[encoded data removed]",
      "text/plain": [
       "<Figure size 640x480 with 1 Axes>"
      ]
     },
     "metadata": {},
     "output_type": "display_data"
    }
   ],
   "source": [
    "# Sentence Count\n",
    "avg_sentence_spam = df[df['spam'] == 1]['num_sentence'].mean()\n",
    "avg_sentence_ham = df[df['spam'] == 0]['num_sentence'].mean()\n",
    "print(\"Average Sentence of Spam Emails:\", avg_sentence_spam)\n",
    "print(\"Average Sentence of Ham Emails:\", avg_sentence_ham)\n",
    "\n",
    "# Plotting\n",
    "plt.bar(['Spam', 'Ham'], [avg_sentence_spam, avg_sentence_ham], color=['Green', 'Blue'])\n",
    "plt.title('Average Sentence of Emails for Spam and Ham')\n",
    "plt.xlabel('Email Type')\n",
    "plt.ylabel('Average Sentence')\n",
    "plt.show()"
   ]
  },
  {
   "cell_type": "code",
   "execution_count": null,
   "id": "543c61a5",
   "metadata": {},
   "outputs": [
    {
     "name": "stdout",
     "output_type": "stream",
     "text": [
      "length_bin\n",
      "(0, 50]        0.037363\n",
      "(50, 100]      0.097308\n",
      "(100, 150]     0.247598\n",
      "(150, 200]     0.389041\n",
      "(200, 300]     0.243439\n",
      "(300, 500]     0.302315\n",
      "(500, 1000]    0.295106\n",
      "Name: spam, dtype: float64\n"
     ]
    }
   ],
   "source": [
    "# Analyze spam rate by text length bins\n",
    "bins = [0, 50, 100, 150, 200, 300, 500, 1000]\n",
    "df['length_bin'] = pd.cut(df['Length'], bins=bins)\n",
    "spam_rate_by_len = df.groupby('length_bin')['spam'].mean()\n",
    "print(spam_rate_by_len)"
   ]
  },
  {
   "cell_type": "markdown",
   "id": "01db215f",
   "metadata": {},
   "source": [
    "## 1.4 Data Preproccessing\n"
   ]
  },
  {
   "cell_type": "code",
   "execution_count": null,
   "id": "76d80fd8",
   "metadata": {},
   "outputs": [
    {
     "name": "stderr",
     "output_type": "stream",
     "text": [
      "[nltk_data] Downloading package punkt to\n",
      "[nltk_data]     C:\\Users\\Admin\\AppData\\Roaming\\nltk_data...\n",
      "[nltk_data]   Package punkt is already up-to-date!\n",
      "[nltk_data] Downloading package stopwords to\n",
      "[nltk_data]     C:\\Users\\Admin\\AppData\\Roaming\\nltk_data...\n",
      "[nltk_data]   Package stopwords is already up-to-date!\n",
      "[nltk_data] Downloading package averaged_perceptron_tagger to\n",
      "[nltk_data]     C:\\Users\\Admin\\AppData\\Roaming\\nltk_data...\n",
      "[nltk_data]   Package averaged_perceptron_tagger is already up-to-\n",
      "[nltk_data]       date!\n",
      "[nltk_data] Downloading package wordnet to\n",
      "[nltk_data]     C:\\Users\\Admin\\AppData\\Roaming\\nltk_data...\n",
      "[nltk_data]   Package wordnet is already up-to-date!\n",
      "[nltk_data] Downloading package omw-1.4 to\n",
      "[nltk_data]     C:\\Users\\Admin\\AppData\\Roaming\\nltk_data...\n",
      "[nltk_data]   Package omw-1.4 is already up-to-date!\n"
     ]
    },
    {
     "name": "stdout",
     "output_type": "stream",
     "text": [
      "Saved: data/processed/Preprocessed_dataset.csv | rows: 21137\n"
     ]
    }
   ],
   "source": [
    "nltk.download('punkt')\n",
    "nltk.download('stopwords')\n",
    "nltk.download('averaged_perceptron_tagger')\n",
    "nltk.download('wordnet'); nltk.download('omw-1.4')\n",
    "\n",
    "# Text Preprocessing and Lemmatization\n",
    "df = pd.read_csv(\"../data/processed/Cleaned_dataset.csv\")\n",
    "df['spam'] = df['spam'].astype(int)\n",
    "\n",
    "base_stop = set(stopwords.words('english'))\n",
    "promo_keep = {\n",
    "    'free','win','prize','price','cash','money','claim','offer','click',\n",
    "    'urgent','now','call','text','reward','bonus','gift','credit','loan',\n",
    "    'deal','sale','discount','limited'\n",
    "}\n",
    "stop_light = base_stop - promo_keep\n",
    "\n",
    "# POS mapping for lemmatizer\n",
    "def _to_wn_pos(tag):\n",
    "    if tag.startswith('J'): return wordnet.ADJ\n",
    "    if tag.startswith('V'): return wordnet.VERB\n",
    "    if tag.startswith('N'): return wordnet.NOUN\n",
    "    if tag.startswith('R'): return wordnet.ADV\n",
    "    return wordnet.NOUN \n",
    "\n",
    "lemm = WordNetLemmatizer()\n",
    "\n",
    "def preprocess_lemmatize(s: str) -> str:\n",
    "    s = str(s).lower()\n",
    "    # remove urls/emails/phones/numbers/tokens-with-digits\n",
    "    s = re.sub(r'https?://\\S+|www\\.\\S+', ' ', s)\n",
    "    s = re.sub(r'\\b\\S+@\\S+\\.\\S+\\b', ' ', s)\n",
    "    s = re.sub(r'\\b\\d{3}[-.\\s]?\\d{3}[-.\\s]?\\d{4}\\b', ' ', s)\n",
    "    s = re.sub(r'\\b\\d{5,}\\b', ' ', s)\n",
    "    s = re.sub(r'\\b[a-z]*\\d+[a-z]*\\b', ' ', s)\n",
    "    # drop common leftovers if any\n",
    "    s = re.sub(r'\\b(?:http|https|www|com|escape\\w*)\\b', ' ', s)\n",
    "    # keep letters + spaces, compress spaces\n",
    "    s = re.sub(r'[^a-z\\s]', ' ', s)\n",
    "    s = re.sub(r'\\s+', ' ', s).strip()\n",
    "\n",
    "    # tokenize + POS tag\n",
    "    toks = word_tokenize(s)\n",
    "    toks = [w for w in toks if len(w) > 1 and w not in stop_light]\n",
    "    if not toks: return \"\"\n",
    "\n",
    "    tagged = pos_tag(toks)\n",
    "    lemmas = [lemm.lemmatize(w, _to_wn_pos(t)) for w, t in tagged]\n",
    "    return \" \".join(lemmas)\n",
    "\n",
    "# Apply preprocessing and lemmatization\n",
    "df['transform_text'] = df['text'].apply(preprocess_lemmatize)\n",
    "# Save the preprocessed dataset\n",
    "df[['text','transform_text','spam']].to_csv(\"../data/processed/Preprocessed_dataset.csv\", index=False)\n",
    "print(\"Saved: data/processed/Preprocessed_dataset.csv | rows:\", len(df))"
   ]
  },
  {
   "cell_type": "markdown",
   "id": "93284f27",
   "metadata": {},
   "source": [
    "## 1.5 Common Words in Spam and Ham Emails"
   ]
  },
  {
   "cell_type": "code",
   "execution_count": null,
   "id": "be7f9d0c",
   "metadata": {},
   "outputs": [
    {
     "data": {
      "image/png": "[encoded data removed]",
      "text/plain": [
       "<Figure size 1000x500 with 1 Axes>"
      ]
     },
     "metadata": {},
     "output_type": "display_data"
    }
   ],
   "source": [
    "# Word Frequency Analysis in Spam Emails\n",
    "spam_words = \" \".join(df[df['spam'] == 1]['transform_text']).split()\n",
    "spam_freq = Counter(spam_words).most_common(20)\n",
    "# Plotting\n",
    "words, counts = zip(*spam_freq)\n",
    "plt.figure(figsize=(10,5))\n",
    "plt.barh(words[::-1], counts[::-1], color='red')\n",
    "plt.title(\"Top 20 Most Common Words in Spam\")\n",
    "plt.xlabel(\"Frequency\")\n",
    "plt.ylabel(\"Words\")\n",
    "plt.show()"
   ]
  },
  {
   "cell_type": "code",
   "execution_count": null,
   "id": "1fdc63b9",
   "metadata": {},
   "outputs": [
    {
     "data": {
      "image/png": "[encoded data removed]",
      "text/plain": [
       "<Figure size 1000x500 with 1 Axes>"
      ]
     },
     "metadata": {},
     "output_type": "display_data"
    }
   ],
   "source": [
    "# Word Frequency Analysis in Ham Emails\n",
    "ham_words = \" \".join(df[df['spam'] == 0]['transform_text']).split()\n",
    "ham_freq = Counter(ham_words).most_common(20)\n",
    "\n",
    "# Plotting\n",
    "words, counts = zip(*ham_freq)\n",
    "plt.figure(figsize=(10,5))\n",
    "plt.barh(words[::-1], counts[::-1], color='green')\n",
    "plt.title(\"Top 20 Most Common Words in Ham\")\n",
    "plt.xlabel(\"Frequency\")\n",
    "plt.ylabel(\"Words\")\n",
    "plt.show()"
   ]
  }
 ],
 "metadata": {
  "kernelspec": {
   "display_name": "Python 3",
   "language": "python",
   "name": "python3"
  },
  "language_info": {
   "codemirror_mode": {
    "name": "ipython",
    "version": 3
   },
   "file_extension": ".py",
   "mimetype": "text/x-python",
   "name": "python",
   "nbconvert_exporter": "python",
   "pygments_lexer": "ipython3",
   "version": "3.13.7"
  }
 },
 "nbformat": 4,
 "nbformat_minor": 5
}
